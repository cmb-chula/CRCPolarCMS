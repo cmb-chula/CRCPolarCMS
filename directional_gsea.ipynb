{
 "cells": [
  {
   "cell_type": "markdown",
   "id": "8d369843-3c33-4032-87ef-89a119f9ab4f",
   "metadata": {},
   "source": [
    "<a href=\"https://colab.research.google.com/github/cmb-chula/CRCPolarCMS/blob/main/directional_gsea.ipynb\" target=\"_parent\"><img src=\"https://colab.research.google.com/assets/colab-badge.svg\" alt=\"Open In Colab\"/></a>"
   ]
  },
  {
   "cell_type": "code",
   "execution_count": null,
   "id": "5c4be441-6d22-4198-ab84-5f178a75c087",
   "metadata": {},
   "outputs": [],
   "source": [
    "## Uncomment to install and import require files\n",
    "%%capture\n",
    "!wget --content-disposition -nc https://figshare.com/ndownloader/files/32991419\n",
    "!wget --content-disposition -nc https://figshare.com/ndownloader/files/32991479\n",
    "!wget --content-disposition -nc https://figshare.com/ndownloader/files/32991491\n",
    "!wget --content-disposition -nc https://figshare.com/ndownloader/files/32993621"
   ]
  },
  {
   "cell_type": "code",
   "execution_count": null,
   "id": "8edd29f9-1e36-4872-86d3-c6a5b488e63e",
   "metadata": {},
   "outputs": [],
   "source": [
    "## For Google Colab\n",
    "## Uncomment to install and import require files\n",
    "# %%capture\n",
    "# !git clone https://github.com/cmb-chula/CRCPolarCMS\n",
    "# !pip install -q numpy matplotlib pandas sklearn gseapy\n",
    "# from CRCPolarCMS.directional_gsea import directional_gsea"
   ]
  },
  {
   "cell_type": "code",
   "execution_count": null,
   "id": "be3877b9-be65-442d-8a62-3da3ba7b961f",
   "metadata": {},
   "outputs": [],
   "source": [
    "# For local env\n",
    "# Uncomment to import files\n",
    "from directional_gsea import directional_gsea"
   ]
  },
  {
   "cell_type": "markdown",
   "id": "c9152118-6527-49b5-ab16-55e7a1b694cb",
   "metadata": {},
   "source": [
    "Avaliable precompute terms: \n",
    "```\n",
    "['WNT1', 'metabolism2', 'VEGF1', 'EMT2', 'MAPK1', 'MAPK2', 'EMT1','MYC2', 'WNT2', 'JAK-STAT','VEGF2', 'ribosome_biogenesis','adative_immune']\n",
    "```"
   ]
  },
  {
   "cell_type": "code",
   "execution_count": null,
   "id": "89a9414b-f505-4672-9760-8969d765c8bc",
   "metadata": {},
   "outputs": [],
   "source": [
    "term = 'test'"
   ]
  },
  {
   "cell_type": "markdown",
   "id": "8fb0e209-f043-4ccb-864f-10b70b64cf5f",
   "metadata": {},
   "source": [
    "Change target_genes for custom term"
   ]
  },
  {
   "cell_type": "code",
   "execution_count": null,
   "id": "6b3d90a6-b1fe-4df3-8eae-532103b05661",
   "metadata": {},
   "outputs": [],
   "source": [
    "target_genes = ['EPB41L5', 'HDAC2', 'BMP7', 'EFNA1', 'LRP6', 'ZNF703', 'CLASP2', 'KLHL12', 'STRAP', 'HMGA2', 'SOX9', 'PBLD', 'PDCD4', 'NOLC1', 'TRIM28', 'KBTBD8', 'SPRY2', 'EZH2', 'FOXA2', 'HNRNPAB', 'BMP5', 'OVOL2', 'WNT4', 'TCF7L2', 'FOXA1']"
   ]
  },
  {
   "cell_type": "markdown",
   "id": "251ecc41-a04c-40a3-80d9-d531dfadce10",
   "metadata": {},
   "source": [
    "Plot results"
   ]
  },
  {
   "cell_type": "code",
   "execution_count": null,
   "id": "9616c579-60da-43dd-8b79-703e10865353",
   "metadata": {},
   "outputs": [],
   "source": [
    "directional_gsea(term, target_genes)"
   ]
  },
  {
   "cell_type": "code",
   "execution_count": null,
   "id": "cab1ccf9-e40d-4f7e-9398-903efa937ca3",
   "metadata": {},
   "outputs": [],
   "source": []
  }
 ],
 "metadata": {
  "kernelspec": {
   "display_name": "Python [conda env:tensorflow]",
   "language": "python",
   "name": "conda-env-tensorflow-py"
  },
  "language_info": {
   "codemirror_mode": {
    "name": "ipython",
    "version": 3
   },
   "file_extension": ".py",
   "mimetype": "text/x-python",
   "name": "python",
   "nbconvert_exporter": "python",
   "pygments_lexer": "ipython3",
   "version": "3.9.7"
  }
 },
 "nbformat": 4,
 "nbformat_minor": 5
}
