{
 "cells": [
  {
   "cell_type": "markdown",
   "id": "8d369843-3c33-4032-87ef-89a119f9ab4f",
   "metadata": {},
   "source": [
    "<a href=\"https://colab.research.google.com/github/cmb-chula/CRCPolarCMS/blob/main/directional_gsea.ipynb\" target=\"_parent\"><img src=\"https://colab.research.google.com/assets/colab-badge.svg\" alt=\"Open In Colab\"/></a>"
   ]
  },
  {
   "cell_type": "markdown",
   "id": "21db979d-0c87-4bfb-9c27-f1efffe2ad15",
   "metadata": {},
   "source": [
    "# Polar CMS"
   ]
  },
  {
   "cell_type": "markdown",
   "id": "5ca72767-5237-4e64-ac96-f25e93631160",
   "metadata": {},
   "source": [
    "## Run this cell to download required support files"
   ]
  },
  {
   "cell_type": "code",
   "execution_count": null,
   "id": "5c4be441-6d22-4198-ab84-5f178a75c087",
   "metadata": {},
   "outputs": [],
   "source": [
    "%%capture\n",
    "!wget --content-disposition -nc https://figshare.com/ndownloader/files/32991419\n",
    "!wget --content-disposition -nc https://figshare.com/ndownloader/files/32991479\n",
    "!wget --content-disposition -nc https://figshare.com/ndownloader/files/32991491\n",
    "!wget --content-disposition -nc https://figshare.com/ndownloader/files/32993621"
   ]
  },
  {
   "cell_type": "markdown",
   "id": "75694f2c-d9f5-4c72-8452-e71a95f83798",
   "metadata": {},
   "source": [
    "## Google Colab\n",
    "Run this cell if you are this notebook on using Google Colab. Skip to next cell if the file is run on local environment."
   ]
  },
  {
   "cell_type": "code",
   "execution_count": null,
   "id": "8edd29f9-1e36-4872-86d3-c6a5b488e63e",
   "metadata": {},
   "outputs": [],
   "source": [
    "# For Google Colab\n",
    "%%capture\n",
    "!git clone https://github.com/cmb-chula/CRCPolarCMS\n",
    "!pip install -q numpy matplotlib pandas sklearn gseapy\n",
    "from CRCPolarCMS.directional_gsea import directional_gsea"
   ]
  },
  {
   "cell_type": "markdown",
   "id": "c47a1323-72d4-4704-8133-aa200204a03c",
   "metadata": {},
   "source": [
    "## Local Environment\n",
    "To be able to run this file in local environment. NumPy, Pandas, Matplotlib, Scikit-Learn, and GESEApy is required. Skip this cell if running on Google Colab"
   ]
  },
  {
   "cell_type": "code",
   "execution_count": null,
   "id": "be3877b9-be65-442d-8a62-3da3ba7b961f",
   "metadata": {},
   "outputs": [],
   "source": [
    "# For local env\n",
    "from directional_gsea import directional_gsea"
   ]
  },
  {
   "cell_type": "markdown",
   "id": "3fd0a50d-eb73-4223-b7b7-91872a2a0d24",
   "metadata": {},
   "source": [
    "## Terms\n",
    "Input the name of the group interested in this cell or use one of the precompute terms."
   ]
  },
  {
   "cell_type": "markdown",
   "id": "c9152118-6527-49b5-ab16-55e7a1b694cb",
   "metadata": {},
   "source": [
    "Avaliable precompute terms: \n",
    "```\n",
    "['WNT1', 'metabolism2', 'VEGF1', 'EMT2', 'MAPK1', 'MAPK2', 'EMT1','MYC2', 'WNT2', 'JAK-STAT','VEGF2', 'ribosome_biogenesis','adative_immune']\n",
    "```"
   ]
  },
  {
   "cell_type": "code",
   "execution_count": null,
   "id": "89a9414b-f505-4672-9760-8969d765c8bc",
   "metadata": {},
   "outputs": [],
   "source": [
    "term = 'test'"
   ]
  },
  {
   "cell_type": "markdown",
   "id": "8fb0e209-f043-4ccb-864f-10b70b64cf5f",
   "metadata": {},
   "source": [
    "## Target Genes List\n",
    "15 Genes is needed to be able to compute GSEA and find the angle.\n",
    "### Self input\n",
    "Change target_genes for custom term. \n",
    "Skip this cell if you are importing the list from the file"
   ]
  },
  {
   "cell_type": "code",
   "execution_count": null,
   "id": "6b3d90a6-b1fe-4df3-8eae-532103b05661",
   "metadata": {},
   "outputs": [],
   "source": [
    "target_genes = ['AXIN2', 'EPB41L5', 'HDAC2', 'BMP7', 'EFNA1', 'LRP6', 'ZNF703', 'CLASP2', 'KLHL12', 'STRAP', 'HMGA2', 'SOX9', 'PBLD', 'PDCD4', 'NOLC1', 'TRIM28', 'KBTBD8', 'SPRY2', 'EZH2', 'FOXA2', 'HNRNPAB', 'BMP5', 'OVOL2', 'WNT4', 'TCF7L2', 'FOXA1']"
   ]
  },
  {
   "cell_type": "markdown",
   "id": "4df4e746-049a-41bd-af54-c7b811cd1ad6",
   "metadata": {},
   "source": [
    "### Import from text file\n",
    "Name the file \n",
    "```\n",
    "target_genes.txt \n",
    "```\n",
    "#### Local Environment\n",
    "Make sure the file is in the same location as this notebook.\n",
    "\n",
    "#### Google Colab\n",
    "Upload into Google Colab by clicking 1 then 2 as shown in this figure. Run the following cell below."
   ]
  },
  {
   "cell_type": "markdown",
   "id": "43021468-a275-478d-8680-8c3f8a0a2081",
   "metadata": {},
   "source": [
    "<img src=\"https://github.com/cmb-chula/CRCPolarCMS/blob/main/support_file/howtoupload.png?raw=true\"/>"
   ]
  },
  {
   "cell_type": "code",
   "execution_count": null,
   "id": "a196ba3c-98b6-4db5-b934-f6c536687d4d",
   "metadata": {},
   "outputs": [],
   "source": [
    "## Import from text file. Skip this cell if you did self input.\n",
    "import pandas as pd\n",
    "target_genes = pd.read_csv(\"sample.txt\", header=None)\n",
    "target_genes = target_genes.values.flatten()\n",
    "list(target_genes)"
   ]
  },
  {
   "cell_type": "markdown",
   "id": "251ecc41-a04c-40a3-80d9-d531dfadce10",
   "metadata": {},
   "source": [
    "## Plot results\n",
    "Run this cell to plot the results.\n",
    "\n",
    "You can right click or drag the image to save to storage."
   ]
  },
  {
   "cell_type": "code",
   "execution_count": null,
   "id": "9616c579-60da-43dd-8b79-703e10865353",
   "metadata": {},
   "outputs": [],
   "source": [
    "directional_gsea(term, target_genes)"
   ]
  },
  {
   "cell_type": "code",
   "execution_count": null,
   "id": "cab1ccf9-e40d-4f7e-9398-903efa937ca3",
   "metadata": {},
   "outputs": [],
   "source": []
  }
 ],
 "metadata": {
  "kernelspec": {
   "display_name": "Python [conda env:tensorflow]",
   "language": "python",
   "name": "conda-env-tensorflow-py"
  },
  "language_info": {
   "codemirror_mode": {
    "name": "ipython",
    "version": 3
   },
   "file_extension": ".py",
   "mimetype": "text/x-python",
   "name": "python",
   "nbconvert_exporter": "python",
   "pygments_lexer": "ipython3",
   "version": "3.9.7"
  }
 },
 "nbformat": 4,
 "nbformat_minor": 5
}
